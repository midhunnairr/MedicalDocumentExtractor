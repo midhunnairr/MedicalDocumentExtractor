{
 "cells": [
  {
   "cell_type": "code",
   "execution_count": 16,
   "id": "450d7c32-74a9-4407-b42c-5e973956408c",
   "metadata": {},
   "outputs": [],
   "source": [
    "from pdf2image import convert_from_path\n",
    "import pytesseract\n",
    "import cv2\n",
    "import numpy as np\n",
    "from PIL import Image\n",
    "import re"
   ]
  },
  {
   "cell_type": "code",
   "execution_count": 3,
   "id": "6f829418-c595-481a-99ae-5ef2ecf4d5de",
   "metadata": {},
   "outputs": [
    {
     "data": {
      "text/plain": [
       "[<PIL.PpmImagePlugin.PpmImageFile image mode=RGB size=1700x2200>]"
      ]
     },
     "execution_count": 3,
     "metadata": {},
     "output_type": "execute_result"
    }
   ],
   "source": [
    "pages=convert_from_path(pdf_path = \"C:/Users/midiy/OneDrive/Desktop/Medical Prescription Extraction/Backend/notebooks/docs/prescription/pre_1.pdf\"\n",
    ",poppler_path=\"C:/poppler-24.08.0/Library/bin\")\n",
    "pages"
   ]
  },
  {
   "cell_type": "code",
   "execution_count": 4,
   "id": "ccabc801-6cc9-428c-a149-27e22a90dc46",
   "metadata": {},
   "outputs": [
    {
     "data": {
      "text/plain": [
       "1"
      ]
     },
     "execution_count": 4,
     "metadata": {},
     "output_type": "execute_result"
    }
   ],
   "source": [
    "len(pages)"
   ]
  },
  {
   "cell_type": "code",
   "execution_count": 5,
   "id": "d548482f-9a6b-47e8-926b-365154df475b",
   "metadata": {},
   "outputs": [],
   "source": [
    "pytesseract.pytesseract.tesseract_cmd=r\"C:\\Program Files\\Tesseract-OCR\\tesseract.exe\"\n",
    "text=pytesseract.image_to_string(pages[0], lang='eng')\n"
   ]
  },
  {
   "cell_type": "code",
   "execution_count": 6,
   "id": "b744231a-618b-43fb-8218-6397a269a56e",
   "metadata": {},
   "outputs": [
    {
     "name": "stdout",
     "output_type": "stream",
     "text": [
      "Dr John Smith, M.D\n",
      "2 Non-Important Street,\n",
      "New York, Phone (000)-111-2222\n",
      "\n",
      "Name: Maria Sharapova Date: 5/11/2022\n",
      "\n",
      "Address: 9 tennis court, new Russia, DC\n",
      "\n",
      "—moemenmannenneneneunmnnnnennieesisiyoinnitniahadaaanniihsnseneneneeeernnttnnneenrenen:\n",
      "\n",
      "Prednisone 20 mg\n",
      "Lialda 2.4 gram\n",
      "\n",
      "3 days,\n",
      "\n",
      "or 1 month\n",
      "\n"
     ]
    }
   ],
   "source": [
    "print(text)"
   ]
  },
  {
   "cell_type": "code",
   "execution_count": 7,
   "id": "17b13d1c-9db6-4cbe-85d5-37b70407c267",
   "metadata": {},
   "outputs": [],
   "source": [
    "img=cv2.imread(\"dark_image.jpg\", flags=cv2.IMREAD_GRAYSCALE)"
   ]
  },
  {
   "cell_type": "code",
   "execution_count": 8,
   "id": "a608ac34-f288-4bc6-9637-d1a0dadeaa37",
   "metadata": {},
   "outputs": [],
   "source": [
    "Image.fromarray(img).show()"
   ]
  },
  {
   "cell_type": "code",
   "execution_count": 9,
   "id": "3ec401b3-c58d-46f6-a60d-d9070c90115a",
   "metadata": {},
   "outputs": [],
   "source": [
    "none,new=cv2.threshold(img,150,255,cv2.THRESH_BINARY)\n"
   ]
  },
  {
   "cell_type": "code",
   "execution_count": 10,
   "id": "517bff25-4530-450a-909e-f96d7f92c6c3",
   "metadata": {},
   "outputs": [],
   "source": [
    "light=cv2.adaptiveThreshold(img,255,cv2.ADAPTIVE_THRESH_GAUSSIAN_C,cv2.THRESH_BINARY,61,11)"
   ]
  },
  {
   "cell_type": "code",
   "execution_count": 11,
   "id": "657f4c7e-a849-4d73-a2dd-15e72278c3db",
   "metadata": {},
   "outputs": [],
   "source": [
    "Image.fromarray(light).show()"
   ]
  },
  {
   "cell_type": "code",
   "execution_count": 12,
   "id": "04f05c38-8b3f-4c3b-9dca-9484d755e0da",
   "metadata": {},
   "outputs": [],
   "source": [
    "def processing(img=pages[0]):\n",
    "    grayscale_img=cv2.cvtColor(np.array(img), cv2.COLOR_BGR2GRAY)\n",
    "    resized_image=cv2.resize(grayscale_img,None,fx=1.5,fy=1.5,interpolation=cv2.INTER_LINEAR)\n",
    "    processed_image=cv2.adaptiveThreshold(resized_image,255,cv2.ADAPTIVE_THRESH_GAUSSIAN_C,cv2.THRESH_BINARY,61,11)\n",
    "\n",
    "    return processed_image"
   ]
  },
  {
   "cell_type": "code",
   "execution_count": 13,
   "id": "dbd015c7-4314-447f-b344-ccb2f8af8221",
   "metadata": {},
   "outputs": [],
   "source": [
    "image=processing()"
   ]
  },
  {
   "cell_type": "code",
   "execution_count": 14,
   "id": "96e123e4-f7ff-4603-ab65-f5bd13d6af9e",
   "metadata": {},
   "outputs": [],
   "source": [
    "pytesseract.pytesseract.tesseract_cmd=r\"C:\\Program Files\\Tesseract-OCR\\tesseract.exe\"\n",
    "text=pytesseract.image_to_string(image, lang='eng')\n"
   ]
  },
  {
   "cell_type": "code",
   "execution_count": 15,
   "id": "ee633ec6-6ef1-4aac-b841-90166d4bee8e",
   "metadata": {},
   "outputs": [
    {
     "name": "stdout",
     "output_type": "stream",
     "text": [
      "Dr John Smith, M.D\n",
      "2 Non-Important Street,\n",
      "New York, Phone (000)-111-2222\n",
      "\n",
      "Name: Marta Sharapova Date: 5/11/2022\n",
      "\n",
      "Address: 9 tennis court, new Russia, DC\n",
      "\n",
      "K\n",
      "\n",
      "Prednisone 20 mg\n",
      "Lialda 2.4 gram\n",
      "\n",
      "Directions:\n",
      "\n",
      "Prednisone, Taper 5 mig every 3 days,\n",
      "Finish in 2.5 weeks a\n",
      "Lialda - take 2 pill everyday for 1 month\n",
      "\n",
      "Refill: 2 times\n",
      "\n"
     ]
    }
   ],
   "source": [
    "print(text)"
   ]
  },
  {
   "cell_type": "code",
   "execution_count": 49,
   "id": "32d0b383-c24e-4e8b-8f2f-0e8829664ba1",
   "metadata": {},
   "outputs": [],
   "source": [
    "content=\"Directions:(.*)Refill\"\n",
    "Directions=re.findall(content,text,flags=re.DOTALL)"
   ]
  },
  {
   "cell_type": "code",
   "execution_count": 52,
   "id": "d1947faf-db25-4cfa-b4de-526d823364bf",
   "metadata": {},
   "outputs": [],
   "source": [
    "Directions=Directions[0].strip().replace(\"\\n\",\" \")\n"
   ]
  },
  {
   "cell_type": "code",
   "execution_count": 61,
   "id": "40e1d786-bd3f-43f3-a7de-59d3496b1a46",
   "metadata": {},
   "outputs": [],
   "source": [
    "summary=\"Refill:(.*) times\""
   ]
  },
  {
   "cell_type": "code",
   "execution_count": 65,
   "id": "347a8bb6-7373-4cf7-ba13-5cd1032f208b",
   "metadata": {},
   "outputs": [
    {
     "data": {
      "text/plain": [
       "[' 2']"
      ]
     },
     "execution_count": 65,
     "metadata": {},
     "output_type": "execute_result"
    }
   ],
   "source": [
    "Refill=re.findall(summary,text,flags=re.DOTALL)\n",
    "Refill"
   ]
  },
  {
   "cell_type": "code",
   "execution_count": 68,
   "id": "4c95af77-e4e4-4b1c-b113-e164f410229b",
   "metadata": {},
   "outputs": [],
   "source": [
    "Refill=Refill[0].strip()"
   ]
  },
  {
   "cell_type": "code",
   "execution_count": 69,
   "id": "7917c5b1-1a2a-4fd6-872d-ddd52080eadb",
   "metadata": {},
   "outputs": [
    {
     "data": {
      "text/plain": [
       "'Prednisone, Taper 5 mig every 3 days, Finish in 2.5 weeks a Lialda - take 2 pill everyday for 1 month'"
      ]
     },
     "execution_count": 69,
     "metadata": {},
     "output_type": "execute_result"
    }
   ],
   "source": [
    "Directions\n"
   ]
  },
  {
   "cell_type": "code",
   "execution_count": 70,
   "id": "e952655e-c09a-44fd-9c7a-ce745a747178",
   "metadata": {},
   "outputs": [
    {
     "data": {
      "text/plain": [
       "'2'"
      ]
     },
     "execution_count": 70,
     "metadata": {},
     "output_type": "execute_result"
    }
   ],
   "source": [
    "Refill"
   ]
  }
 ],
 "metadata": {
  "kernelspec": {
   "display_name": "Python 3 (ipykernel)",
   "language": "python",
   "name": "python3"
  },
  "language_info": {
   "codemirror_mode": {
    "name": "ipython",
    "version": 3
   },
   "file_extension": ".py",
   "mimetype": "text/x-python",
   "name": "python",
   "nbconvert_exporter": "python",
   "pygments_lexer": "ipython3",
   "version": "3.12.8"
  }
 },
 "nbformat": 4,
 "nbformat_minor": 5
}
